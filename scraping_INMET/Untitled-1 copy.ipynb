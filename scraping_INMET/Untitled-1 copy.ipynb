{
 "cells": [
  {
   "cell_type": "markdown",
   "metadata": {},
   "source": [
    "# temperarute analysis and prediction"
   ]
  },
  {
   "cell_type": "code",
   "execution_count": 1,
   "metadata": {},
   "outputs": [],
   "source": [
    "# import the library\n",
    "from inmetpy.stations import InmetStation\n",
    "inmet = InmetStation()"
   ]
  },
  {
   "cell_type": "code",
   "execution_count": 2,
   "metadata": {},
   "outputs": [],
   "source": [
    "# list all inmet stations available\n",
    "stations = inmet.get_stations() # get details of all stations available\n",
    "\n",
    "auto_stations = inmet.get_stations(\"A\") # details of all automatic stations\n",
    "manual_stations = inmet.get_stations(\"M\") # details of all manual stations\n",
    "\n",
    "# get data from a station or a list of stations\n",
    "#inmet.get_data_station(start_date, end_date, by, station_id) # stations must be a list of strings with the \"CD_STATION\" (ID) of the stations desired."
   ]
  },
  {
   "cell_type": "code",
   "execution_count": 3,
   "metadata": {},
   "outputs": [
    {
     "data": {
      "text/html": [
       "<div>\n",
       "<style scoped>\n",
       "    .dataframe tbody tr th:only-of-type {\n",
       "        vertical-align: middle;\n",
       "    }\n",
       "\n",
       "    .dataframe tbody tr th {\n",
       "        vertical-align: top;\n",
       "    }\n",
       "\n",
       "    .dataframe thead th {\n",
       "        text-align: right;\n",
       "    }\n",
       "</style>\n",
       "<table border=\"1\" class=\"dataframe\">\n",
       "  <thead>\n",
       "    <tr style=\"text-align: right;\">\n",
       "      <th></th>\n",
       "      <th>CD_OSCAR</th>\n",
       "      <th>STATION_NAME</th>\n",
       "      <th>CD_STATION</th>\n",
       "      <th>TP_STATION</th>\n",
       "      <th>START_DATE_OPERATION</th>\n",
       "      <th>END_DATE_OPERATION</th>\n",
       "      <th>LONGITUDE</th>\n",
       "      <th>LATITUDE</th>\n",
       "      <th>HEIGHT</th>\n",
       "      <th>CD_SITUATION</th>\n",
       "      <th>CD_WSI</th>\n",
       "      <th>IS_CAPITAL</th>\n",
       "      <th>CD_DISTRICT</th>\n",
       "      <th>INSTITUTE</th>\n",
       "      <th>STATE</th>\n",
       "    </tr>\n",
       "  </thead>\n",
       "  <tbody>\n",
       "    <tr>\n",
       "      <th>301</th>\n",
       "      <td>0-2000-0-81730</td>\n",
       "      <td>MANAUS</td>\n",
       "      <td>A101</td>\n",
       "      <td>Automatic</td>\n",
       "      <td>2000-05-09 00:00:00+00:00</td>\n",
       "      <td>NaT</td>\n",
       "      <td>-60.016389</td>\n",
       "      <td>-3.103333</td>\n",
       "      <td>61.25</td>\n",
       "      <td>Operative</td>\n",
       "      <td>0-76-0-1302603000000003</td>\n",
       "      <td>False</td>\n",
       "      <td>01</td>\n",
       "      <td>INMET</td>\n",
       "      <td>AM</td>\n",
       "    </tr>\n",
       "  </tbody>\n",
       "</table>\n",
       "</div>"
      ],
      "text/plain": [
       "           CD_OSCAR STATION_NAME CD_STATION TP_STATION  \\\n",
       "301  0-2000-0-81730       MANAUS       A101  Automatic   \n",
       "\n",
       "         START_DATE_OPERATION END_DATE_OPERATION  LONGITUDE  LATITUDE  HEIGHT  \\\n",
       "301 2000-05-09 00:00:00+00:00                NaT -60.016389 -3.103333   61.25   \n",
       "\n",
       "    CD_SITUATION                   CD_WSI  IS_CAPITAL CD_DISTRICT INSTITUTE  \\\n",
       "301    Operative  0-76-0-1302603000000003       False          01     INMET   \n",
       "\n",
       "    STATE  \n",
       "301    AM  "
      ]
     },
     "execution_count": 3,
     "metadata": {},
     "output_type": "execute_result"
    }
   ],
   "source": [
    "auto_stations[auto_stations['STATION_NAME']=='MANAUS']"
   ]
  },
  {
   "cell_type": "code",
   "execution_count": 4,
   "metadata": {},
   "outputs": [
    {
     "data": {
      "text/html": [
       "<div>\n",
       "<style scoped>\n",
       "    .dataframe tbody tr th:only-of-type {\n",
       "        vertical-align: middle;\n",
       "    }\n",
       "\n",
       "    .dataframe tbody tr th {\n",
       "        vertical-align: top;\n",
       "    }\n",
       "\n",
       "    .dataframe thead th {\n",
       "        text-align: right;\n",
       "    }\n",
       "</style>\n",
       "<table border=\"1\" class=\"dataframe\">\n",
       "  <thead>\n",
       "    <tr style=\"text-align: right;\">\n",
       "      <th></th>\n",
       "      <th>CD_OSCAR</th>\n",
       "      <th>STATION_NAME</th>\n",
       "      <th>CD_STATION</th>\n",
       "      <th>TP_STATION</th>\n",
       "      <th>START_DATE_OPERATION</th>\n",
       "      <th>END_DATE_OPERATION</th>\n",
       "      <th>LONGITUDE</th>\n",
       "      <th>LATITUDE</th>\n",
       "      <th>HEIGHT</th>\n",
       "      <th>CD_SITUATION</th>\n",
       "      <th>CD_WSI</th>\n",
       "      <th>IS_CAPITAL</th>\n",
       "      <th>CD_DISTRICT</th>\n",
       "      <th>INSTITUTE</th>\n",
       "      <th>STATE</th>\n",
       "    </tr>\n",
       "  </thead>\n",
       "  <tbody>\n",
       "    <tr>\n",
       "      <th>651</th>\n",
       "      <td>0-2000-0-82331</td>\n",
       "      <td>MANAUS</td>\n",
       "      <td>82331</td>\n",
       "      <td>Traditional</td>\n",
       "      <td>1909-12-31 23:59:56+00:00</td>\n",
       "      <td>NaT</td>\n",
       "      <td>-60.016389</td>\n",
       "      <td>-3.103333</td>\n",
       "      <td>61.25</td>\n",
       "      <td>Operative</td>\n",
       "      <td>0-76-0-1302603000W82331</td>\n",
       "      <td>True</td>\n",
       "      <td>01</td>\n",
       "      <td>INMET</td>\n",
       "      <td>AM</td>\n",
       "    </tr>\n",
       "  </tbody>\n",
       "</table>\n",
       "</div>"
      ],
      "text/plain": [
       "           CD_OSCAR STATION_NAME CD_STATION   TP_STATION  \\\n",
       "651  0-2000-0-82331       MANAUS      82331  Traditional   \n",
       "\n",
       "         START_DATE_OPERATION END_DATE_OPERATION  LONGITUDE  LATITUDE  HEIGHT  \\\n",
       "651 1909-12-31 23:59:56+00:00                NaT -60.016389 -3.103333   61.25   \n",
       "\n",
       "    CD_SITUATION                   CD_WSI  IS_CAPITAL CD_DISTRICT INSTITUTE  \\\n",
       "651    Operative  0-76-0-1302603000W82331        True          01     INMET   \n",
       "\n",
       "    STATE  \n",
       "651    AM  "
      ]
     },
     "execution_count": 4,
     "metadata": {},
     "output_type": "execute_result"
    }
   ],
   "source": [
    "manual_stations[manual_stations['STATION_NAME']=='MANAUS']"
   ]
  },
  {
   "cell_type": "markdown",
   "metadata": {},
   "source": [
    "### Get data "
   ]
  },
  {
   "cell_type": "code",
   "execution_count": 9,
   "metadata": {
    "scrolled": true
   },
   "outputs": [],
   "source": [
    "from urllib import response\n",
    "import requests\n",
    "from requests import Response\n",
    "\n",
    "import json\n",
    "from bs4 import BeautifulSoup\n",
    "#from requests_html import HTMLSession\n",
    "\n",
    "\n",
    "import base64\n",
    "import csv\n",
    "import os\n",
    "import re\n",
    "import configparser\n",
    "\n"
   ]
  },
  {
   "cell_type": "code",
   "execution_count": 12,
   "metadata": {},
   "outputs": [],
   "source": [
    "_api=\"https://apitempo.inmet.gov.br\"\n",
    "r = requests.get(\"/\".join([_api, \"estacoes\", 'T']))"
   ]
  },
  {
   "cell_type": "code",
   "execution_count": 46,
   "metadata": {
    "scrolled": false
   },
   "outputs": [],
   "source": [
    "#r.json()"
   ]
  },
  {
   "cell_type": "code",
   "execution_count": 15,
   "metadata": {},
   "outputs": [
    {
     "data": {
      "text/plain": [
       "{'Date': 'Wed, 14 Jun 2023 13:18:15 GMT', 'Server': 'Apache', 'Strict-Transport-Security': 'max-age=31536000; includeSubDomains, max-age=15552000', 'Content-Type': 'application/json; charset=utf-8', 'Content-Length': '221926', 'Content-Security-Policy': 'frame-ancestors https://*.inmet.gov.br/ http://*.inmet.gov.br;', 'X-Frame-Options': 'sameorigin', 'Keep-Alive': 'timeout=2, max=500', 'Connection': 'Keep-Alive'}"
      ]
     },
     "execution_count": 15,
     "metadata": {},
     "output_type": "execute_result"
    }
   ],
   "source": [
    "r.headers"
   ]
  },
  {
   "cell_type": "code",
   "execution_count": null,
   "metadata": {},
   "outputs": [],
   "source": []
  },
  {
   "cell_type": "code",
   "execution_count": 10,
   "metadata": {},
   "outputs": [],
   "source": [
    "s=requests.session()\n",
    "\n",
    "newHeaders={\n",
    "'Accept': 'application/json, text/plain, */*',\n",
    "'Accept-Encoding': 'gzip, deflate, br',\n",
    "'Connection': 'keep-alive',\n",
    "'sec-ch-ua': '\"Chromium\";v=\"104\", \" Not A;Brand\";v=\"99\", \"Google Chrome\";v=\"104\"',\n",
    "'User-Agent': 'Mozilla/5.0 (X11; Linux x86_64) AppleWebKit/537.36 (KHTML, like Gecko) Chrome/104.0.0.0 Safari/537.36'}\n",
    "\n",
    "\n",
    "newHeaders2={\n",
    "'Accept': 'application/json, text/plain, */*',\n",
    "'Accept-Encoding': 'gzip, deflate, br',\n",
    "'Connection': 'keep-alive',\n",
    "'sec-ch-ua': '\"Chromium\";v=\"104\", \" Not A;Brand\";v=\"99\", \"Google Chrome\";v=\"104\"',\n",
    "'User-Agent': 'Mozilla/5.0 (X11; Linux x86_64) AppleWebKit/537.36 (KHTML, like Gecko) Chrome/104.0.0.0 Safari/537.36',\n",
    "'Host': 'apitempo.inmet.gov.br',\n",
    "'Origin': 'https://tempo.inmet.gov.br',\n",
    "'Referer': 'https://tempo.inmet.gov.br/'}\n",
    "\n",
    "newHeaders3={\n",
    "'Accept': 'application/json, text/plain, */*',\n",
    "'Accept-Encoding': 'gzip, deflate, br',\n",
    "'Connection': 'keep-alive',\n",
    "'sec-ch-ua': '\"Chromium\";v=\"104\", \" Not A;Brand\";v=\"99\", \"Google Chrome\";v=\"104\"',\n",
    "'User-Agent': 'Mozilla/5.0 (X11; Linux x86_64) AppleWebKit/537.36 (KHTML, like Gecko) Chrome/104.0.0.0 Safari/537.36',\n",
    "'Content-Type': 'application/json',\n",
    "'Host': 'apitempo.inmet.gov.br',\n",
    "'Origin': 'https://tempo.inmet.gov.br',\n",
    "'Referer': 'https://tempo.inmet.gov.br/'}\n",
    "\n",
    "newHeaders4={\n",
    "'Accept': 'application/json, text/plain, */*',\n",
    "'Accept-Encoding': 'gzip, deflate, br',\n",
    "'Accept-Language': 'pt-BR,pt;q=0.9,en-US;q=0.8,en;q=0.7',\n",
    "'Connection': 'keep-alive',\n",
    "'Content-Length': '865',\n",
    "'Content-Type': 'application/json',\n",
    "'Host': 'apitempo.inmet.gov.br',\n",
    "'Origin': 'https://tempo.inmet.gov.br',\n",
    "'Referer': 'https://tempo.inmet.gov.br/',\n",
    "'Sec-Fetch-Dest': 'empty',\n",
    "'Sec-Fetch-Mode': 'cors',\n",
    "'Sec-Fetch-Site': 'same-site',\n",
    "'User-Agent':'Mozilla/5.0 (Windows NT 10.0; Win64; x64) AppleWebKit/537.36 (KHTML, like Gecko) Chrome/114.0.0.0 Safari/537.36',\n",
    "'sec-ch-ua': '\"Not.A/Brand\";v=\"8\", \"Chromium\";v=\"114\", \"Google Chrome\";v=\"114\"',\n",
    "'sec-ch-ua-platform': \"Windows\"}\n",
    "\n"
   ]
  },
  {
   "cell_type": "code",
   "execution_count": 11,
   "metadata": {},
   "outputs": [
    {
     "name": "stdout",
     "output_type": "stream",
     "text": [
      "200\n",
      "b'<!doctype html><html lang=\"pt-br\"><head><meta charset=\"utf-8\"/><script src=\"https://ajax.googleapis.com/ajax/libs/jquery/3.3.1/jquery.min.js\"></script><script src=\"https://www.google.com/recaptcha/api.js?render=6LdqhOkjAAAAAHqjdF9WSjtatHC0bEohqmvrADrL\"></script><meta name=\"viewport\" content=\"width=device-width,initial-scale=1\"/><link rel=\"\\xe2\\x80\\x9dshortcut\" icon\\xe2\\x80\\x9d href=\"\\xe2\\x80\\x9d/favicon.ico\\xe2\\x80\\x9d\"><title>INMET :: Tempo</title><link href=\"/static/css/2.fafb19e0.chunk.css\" rel=\"stylesheet\"><link href=\"/static/css/main.a0ce06ea.chunk.css\" rel=\"stylesheet\"></head><body><noscript>You need to enable JavaScript to run this app.</noscript><div id=\"root\"></div><script>!function(e){function t(t){for(var n,l,p=t[0],f=t[1],i=t[2],c=0,s=[];c<p.length;c++)l=p[c],Object.prototype.hasOwnProperty.call(o,l)&&o[l]&&s.push(o[l][0]),o[l]=0;for(n in f)Object.prototype.hasOwnProperty.call(f,n)&&(e[n]=f[n]);for(a&&a(t);s.length;)s.shift()();return u.push.apply(u,i||[]),r()}function r(){for(var e,t=0;t<u.length;t++){for(var r=u[t],n=!0,p=1;p<r.length;p++){var f=r[p];0!==o[f]&&(n=!1)}n&&(u.splice(t--,1),e=l(l.s=r[0]))}return e}var n={},o={1:0},u=[];function l(t){if(n[t])return n[t].exports;var r=n[t]={i:t,l:!1,exports:{}};return e[t].call(r.exports,r,r.exports,l),r.l=!0,r.exports}l.m=e,l.c=n,l.d=function(e,t,r){l.o(e,t)||Object.defineProperty(e,t,{enumerable:!0,get:r})},l.r=function(e){\"undefined\"!=typeof Symbol&&Symbol.toStringTag&&Object.defineProperty(e,Symbol.toStringTag,{value:\"Module\"}),Object.defineProperty(e,\"__esModule\",{value:!0})},l.t=function(e,t){if(1&t&&(e=l(e)),8&t)return e;if(4&t&&\"object\"==typeof e&&e&&e.__esModule)return e;var r=Object.create(null);if(l.r(r),Object.defineProperty(r,\"default\",{enumerable:!0,value:e}),2&t&&\"string\"!=typeof e)for(var n in e)l.d(r,n,function(t){return e[t]}.bind(null,n));return r},l.n=function(e){var t=e&&e.__esModule?function(){return e.default}:function(){return e};return l.d(t,\"a\",t),t},l.o=function(e,t){return Object.prototype.hasOwnProperty.call(e,t)},l.p=\"/\";var p=this.webpackJsonptempo=this.webpackJsonptempo||[],f=p.push.bind(p);p.push=t,p=p.slice();for(var i=0;i<p.length;i++)t(p[i]);var a=f;r()}([])</script><script src=\"/static/js/2.8b844c9c.chunk.js\"></script><script src=\"/static/js/main.5f243580.chunk.js\"></script></body><script async src=\"https://www.googletagmanager.com/gtag/js?id=G-JF058S2872\"></script><script>function gtag(){dataLayer.push(arguments)}window.dataLayer=window.dataLayer||[],gtag(\"js\",new Date),gtag(\"config\",\"G-JF058S2872\")</script></html>'\n"
     ]
    }
   ],
   "source": [
    "url = 'https://tempo.inmet.gov.br/TabelaEstacoes/A101'\n",
    "resp = s.get(url,headers=newHeaders)\n",
    "print(resp.status_code)\n",
    "print(resp.content)"
   ]
  },
  {
   "cell_type": "code",
   "execution_count": 24,
   "metadata": {},
   "outputs": [
    {
     "name": "stdout",
     "output_type": "stream",
     "text": [
      "200\n"
     ]
    }
   ],
   "source": [
    "url1 ='https://tempo.inmet.gov.br/static/js/2.8b844c9c.chunk.js'\n",
    "resp1 = s.get(url1,headers=newHeaders)\n",
    "print(resp1.status_code)\n",
    "#print(resp1.content)"
   ]
  },
  {
   "cell_type": "code",
   "execution_count": 25,
   "metadata": {},
   "outputs": [
    {
     "name": "stdout",
     "output_type": "stream",
     "text": [
      "200\n"
     ]
    },
    {
     "data": {
      "text/plain": [
       "{'CD_OSCAR': '0-2000-0-81730',\n",
       " 'DC_NOME': 'MANAUS',\n",
       " 'FL_CAPITAL': 'N',\n",
       " 'DT_FIM_OPERACAO': None,\n",
       " 'CD_SITUACAO': 'Operante',\n",
       " 'TP_ESTACAO': 'Automatica',\n",
       " 'VL_LATITUDE': '-3.10333333',\n",
       " 'CD_WSI': '0-76-0-1302603000000003',\n",
       " 'CD_DISTRITO': ' 01',\n",
       " 'VL_ALTITUDE': '61.25',\n",
       " 'SG_ESTADO': 'AM',\n",
       " 'SG_ENTIDADE': 'INMET',\n",
       " 'CD_ESTACAO': 'A101',\n",
       " 'VL_LONGITUDE': '-60.01638888',\n",
       " 'DT_INICIO_OPERACAO': '2000-05-08T21:00:00.000-03:00'}"
      ]
     },
     "execution_count": 25,
     "metadata": {},
     "output_type": "execute_result"
    }
   ],
   "source": [
    "url2='https://apitempo.inmet.gov.br/getEstacao/A101'\n",
    "resp2 = s.get(url2,headers=newHeaders2)\n",
    "print(resp2.status_code)\n",
    "#print(resp2.content)\n",
    "soup= BeautifulSoup(resp.text, 'html.parser')\n",
    "#print(soup)\n",
    "resp2.json()"
   ]
  },
  {
   "cell_type": "code",
   "execution_count": 75,
   "metadata": {},
   "outputs": [
    {
     "data": {
      "text/plain": [
       "b'[{\"CAPITAL\":\"ARACAJU\",\"TMIN18\":\"23.3*\",\"TMAX18\":\"29.1*\",\"UMIN18\":\"*\",\"PMAX12\":\".2*\"},{\"CAPITAL\":\"BELEM\",\"TMIN18\":\"22.7\",\"TMAX18\":\"33.6\",\"UMIN18\":\"63\",\"PMAX12\":\"12.6\"},{\"CAPITAL\":\"BELO HORIZONTE\",\"TMIN18\":\"19\",\"TMAX18\":\"26.7\",\"UMIN18\":\"57\",\"PMAX12\":\"0\"},{\"CAPITAL\":\"BOA VISTA\",\"TMIN18\":\"24*\",\"TMAX18\":\"32.2*\",\"UMIN18\":\"51*\",\"PMAX12\":\"15.8\"},{\"CAPITAL\":\"BRASILIA\",\"TMIN18\":\"16\",\"TMAX18\":\"27.9\",\"UMIN18\":\"39\",\"PMAX12\":\".5\"},{\"CAPITAL\":\"CAMPO GRANDE\",\"TMIN18\":\"9.7*\",\"TMAX18\":\"14.3*\",\"UMIN18\":\"93*\",\"PMAX12\":\"19.4*\"},{\"CAPITAL\":\"CUIABA\",\"TMIN18\":\"13.1\",\"TMAX18\":\"15.7*\",\"UMIN18\":\"77\",\"PMAX12\":\".3\"},{\"CAPITAL\":\"CURITIBA\",\"TMIN18\":\"*\",\"TMAX18\":\"*\",\"UMIN18\":\"*\",\"PMAX12\":\"*\"},{\"CAPITAL\":\"FLORIANOPOLIS\",\"TMIN18\":\"13.5*\",\"TMAX18\":\"16.9*\",\"UMIN18\":\"56*\",\"PMAX12\":\"5.6*\"},{\"CAPITAL\":\"FORTALEZA\",\"TMIN18\":\"24.2*\",\"TMAX18\":\"31.2*\",\"UMIN18\":\"56*\",\"PMAX12\":\"0\"},{\"CAPITAL\":\"GOIANIA\",\"TMIN18\":\"18.9*\",\"TMAX18\":\"28.5*\",\"UMIN18\":\"47*\",\"PMAX12\":\"4.9\"},{\"CAPITAL\":\"JOAO PESSOA\",\"TMIN18\":\"23.9*\",\"TMAX18\":\"30.9*\",\"UMIN18\":\"56*\",\"PMAX12\":\"0\"},{\"CAPITAL\":\"MACAPA\",\"TMIN18\":\"25.5\",\"TMAX18\":\"33.2\",\"UMIN18\":\"70\",\"PMAX12\":\"6.3\"},{\"CAPITAL\":\"MACEI\\xc3\\x93\",\"TMIN18\":\"22.8*\",\"TMAX18\":\"28.9*\",\"UMIN18\":\"64*\",\"PMAX12\":\"7*\"},{\"CAPITAL\":\"MANAUS\",\"TMIN18\":\"26.1*\",\"TMAX18\":\"32.9*\",\"UMIN18\":\"57*\",\"PMAX12\":\"0\"},{\"CAPITAL\":\"NATAL\",\"TMIN18\":\"24.7\",\"TMAX18\":\"30.3\",\"UMIN18\":\"81\",\"PMAX12\":\"0\"},{\"CAPITAL\":\"PALMAS\",\"TMIN18\":\"21.4*\",\"TMAX18\":\"34.9*\",\"UMIN18\":\"30*\",\"PMAX12\":\"0\"},{\"CAPITAL\":\"PORTO ALEGRE\",\"TMIN18\":\"5.2\",\"TMAX18\":\"15.8\",\"UMIN18\":\"66\",\"PMAX12\":\"0\"},{\"CAPITAL\":\"PORTO VELHO\",\"TMIN18\":\"23*\",\"TMAX18\":\"25.9*\",\"UMIN18\":\"81*\",\"PMAX12\":\"*\"},{\"CAPITAL\":\"RECIFE\",\"TMIN18\":\"*\",\"TMAX18\":\"*\",\"UMIN18\":\"*\",\"PMAX12\":\"*\"},{\"CAPITAL\":\"RIO BRANCO\",\"TMIN18\":\"15.5*\",\"TMAX18\":\"23.5*\",\"UMIN18\":\"84*\",\"PMAX12\":\"31.6\"},{\"CAPITAL\":\"RIO DE JANEIRO\",\"TMIN18\":\"18.9*\",\"TMAX18\":\"26.5*\",\"UMIN18\":\"74\",\"PMAX12\":\"0\"},{\"CAPITAL\":\"SALVADOR\",\"TMIN18\":\"24.1\",\"TMAX18\":\"28.3\",\"UMIN18\":\"87\",\"PMAX12\":\"0\"},{\"CAPITAL\":\"SAO LUIS\",\"TMIN18\":\"23.2*\",\"TMAX18\":\"30*\",\"UMIN18\":\"65*\",\"PMAX12\":\"13.6\"},{\"CAPITAL\":\"SAO PAULO\",\"TMIN18\":\"16.2\",\"TMAX18\":\"18.9\",\"UMIN18\":\"82\",\"PMAX12\":\"0\"},{\"CAPITAL\":\"TERESINA\",\"TMIN18\":\"22.5*\",\"TMAX18\":\"33.9*\",\"UMIN18\":\"44*\",\"PMAX12\":\"0*\"},{\"CAPITAL\":\"VITORIA\",\"TMIN18\":\"20\",\"TMAX18\":\"30.6\",\"UMIN18\":\"60\",\"PMAX12\":\"0*\"}]'"
      ]
     },
     "execution_count": 75,
     "metadata": {},
     "output_type": "execute_result"
    }
   ],
   "source": [
    "url='https://apitempo.inmet.gov.br/condicao/capitais/2023-06-13'\n",
    "resp2 = s.get(url,headers=newHeaders2)\n",
    "resp2.content"
   ]
  },
  {
   "cell_type": "code",
   "execution_count": 26,
   "metadata": {},
   "outputs": [
    {
     "name": "stdout",
     "output_type": "stream",
     "text": [
      "200\n",
      "b'{}'\n"
     ]
    },
    {
     "data": {
      "text/plain": [
       "{}"
      ]
     },
     "execution_count": 26,
     "metadata": {},
     "output_type": "execute_result"
    }
   ],
   "source": [
    "\n",
    "Payload={\"sent_at\":\"2023-06-08T18:41:10.296Z\",\"sdk\":{\"name\":\"sentry.javascript.browser\",\"version\":\"6.3.1\"},\n",
    "\"type\":\"session\",\n",
    "\"sid\":\"baef0f4cdaef44fea4945c9b34b21229\",\"init\":'true',\"started\":\"2023-06-08T18:41:10.292Z\",\n",
    " \"timestamp\":\"2023-06-08T18:41:10.292Z\",\"status\":\"ok\",\"errors\":'0',\"duration\":'0',\"attrs\":{\"release\":\"2.1.199\"}}\n",
    "\n",
    "url3=\"https://o59183.ingest.sentry.io/api/5735937/envelope/?sentry_key=f4e2effb36f24733942cf3c792d9d2a4&sentry_version=7\"\n",
    "\n",
    "\n",
    "resp3 = s.post(url3, data=json.dumps(Payload), headers=newHeaders)\n",
    "print(resp3.status_code)\n",
    "print(resp3.content)\n",
    "soup3= BeautifulSoup(resp3.text, 'html.parser')\n",
    "soup3"
   ]
  },
  {
   "cell_type": "code",
   "execution_count": 27,
   "metadata": {},
   "outputs": [
    {
     "data": {
      "text/plain": [
       "{'type': 'session',\n",
       " 'sid': 'baef0f4cdaef44fea4945c9b34b21229',\n",
       " 'init': 'true',\n",
       " 'started': '2023-06-08T18:41:10.292Z',\n",
       " 'timestamp': '2023-06-08T18:41:10.292Z',\n",
       " 'status': 'ok',\n",
       " 'errors': '0',\n",
       " 'duration': '0',\n",
       " 'attrs': {'release': '2.1.199'}}"
      ]
     },
     "execution_count": 27,
     "metadata": {},
     "output_type": "execute_result"
    }
   ],
   "source": [
    "{\"type\":\"session\",\n",
    "\"sid\":\"baef0f4cdaef44fea4945c9b34b21229\",\"init\":'true',\"started\":\"2023-06-08T18:41:10.292Z\",\n",
    " \"timestamp\":\"2023-06-08T18:41:10.292Z\",\"status\":\"ok\",\"errors\":'0',\"duration\":'0',\"attrs\":{\"release\":\"2.1.199\"}}"
   ]
  },
  {
   "cell_type": "code",
   "execution_count": 28,
   "metadata": {
    "scrolled": false
   },
   "outputs": [
    {
     "name": "stdout",
     "output_type": "stream",
     "text": [
      "200\n",
      "b')]}\\'\\n[\"rresp\",null,null,null,null,null,1]'\n"
     ]
    },
    {
     "data": {
      "text/plain": [
       ")]}'\n",
       "[\"rresp\",null,null,null,null,null,1]"
      ]
     },
     "execution_count": 28,
     "metadata": {},
     "output_type": "execute_result"
    }
   ],
   "source": [
    "url3=\"https://www.google.com/recaptcha/api2/reload?k=6LdqhOkjAAAAAHqjdF9WSjtatHC0bEohqmvrADrL\"\n",
    "\n",
    "resp3 = s.post(url3)\n",
    "print(resp3.status_code)\n",
    "print(resp3.content)\n",
    "soup3= BeautifulSoup(resp3.text, 'html.parser')\n",
    "soup3"
   ]
  },
  {
   "cell_type": "code",
   "execution_count": null,
   "metadata": {},
   "outputs": [],
   "source": []
  },
  {
   "cell_type": "code",
   "execution_count": 31,
   "metadata": {},
   "outputs": [
    {
     "name": "stdout",
     "output_type": "stream",
     "text": [
      "200\n"
     ]
    }
   ],
   "source": [
    "resp3 = s.post(url3, data=json.dumps(Payload))\n",
    "print(resp3.status_code)"
   ]
  },
  {
   "cell_type": "code",
   "execution_count": 32,
   "metadata": {},
   "outputs": [
    {
     "name": "stdout",
     "output_type": "stream",
     "text": [
      "403\n",
      "b'<!DOCTYPE HTML PUBLIC \"-//IETF//DTD HTML 2.0//EN\">\\n<html><head>\\n<title>403 Forbidden</title>\\n</head><body>\\n<h1>Forbidden</h1>\\n<p>You don\\'t have permission to access this resource.</p>\\n</body></html>\\n'\n"
     ]
    },
    {
     "data": {
      "text/plain": [
       "<!DOCTYPE HTML PUBLIC \"-//IETF//DTD HTML 2.0//EN\">\n",
       "\n",
       "<html><head>\n",
       "<title>403 Forbidden</title>\n",
       "</head><body>\n",
       "<h1>Forbidden</h1>\n",
       "<p>You don't have permission to access this resource.</p>\n",
       "</body></html>"
      ]
     },
     "execution_count": 32,
     "metadata": {},
     "output_type": "execute_result"
    }
   ],
   "source": [
    "url3='https://apitempo.inmet.gov.br/estacao/front/'\n",
    "resp_X = s.post(url3, headers=newHeaders3)\n",
    "\n",
    "url3='https://apitempo.inmet.gov.br/estacao/front/'\n",
    "\n",
    "Payload= {\"data_inicio\":\"2023-06-08\",\"data_fim\":\"2023-06-08\",\"estacao\":\"A101\"}\n",
    "\n",
    "resp3 = s.post(url3, data=json.dumps(Payload), headers=resp.headers)\n",
    "\n",
    "print(resp3.status_code)\n",
    "print(resp3.content)\n",
    "soup3= BeautifulSoup(resp3.text, 'html.parser')\n",
    "soup3"
   ]
  },
  {
   "cell_type": "code",
   "execution_count": 33,
   "metadata": {},
   "outputs": [
    {
     "data": {
      "text/plain": [
       "[]"
      ]
     },
     "execution_count": 33,
     "metadata": {},
     "output_type": "execute_result"
    }
   ],
   "source": [
    "resp3.history"
   ]
  },
  {
   "cell_type": "code",
   "execution_count": 34,
   "metadata": {},
   "outputs": [
    {
     "data": {
      "text/plain": [
       "{'Date': 'Wed, 14 Jun 2023 13:29:26 GMT', 'Server': 'Apache', 'Strict-Transport-Security': 'max-age=31536000; includeSubDomains', 'Content-Length': '199', 'Keep-Alive': 'timeout=2, max=499', 'Connection': 'Keep-Alive', 'Content-Type': 'text/html; charset=iso-8859-1'}"
      ]
     },
     "execution_count": 34,
     "metadata": {},
     "output_type": "execute_result"
    }
   ],
   "source": [
    "resp3.headers"
   ]
  },
  {
   "cell_type": "code",
   "execution_count": 71,
   "metadata": {},
   "outputs": [],
   "source": [
    "url='https://www.google.com/recaptcha/api2/reload?k=6LdqhOkjAAAAAHqjdF9WSjtatHC0bEohqmvrADrL'\n",
    "resp = s.post(url, headers= newHeaders)"
   ]
  },
  {
   "cell_type": "code",
   "execution_count": 72,
   "metadata": {},
   "outputs": [
    {
     "data": {
      "text/plain": [
       "<Response [404]>"
      ]
     },
     "execution_count": 72,
     "metadata": {},
     "output_type": "execute_result"
    }
   ],
   "source": [
    "resp"
   ]
  },
  {
   "cell_type": "code",
   "execution_count": 69,
   "metadata": {},
   "outputs": [
    {
     "data": {
      "text/plain": [
       "<Response [403]>"
      ]
     },
     "execution_count": 69,
     "metadata": {},
     "output_type": "execute_result"
    }
   ],
   "source": [
    "newHeaders={'Content-Type': 'application/json',\n",
    "'Host': 'apitempo.inmet.gov.br',\n",
    "'Origin': 'https://tempo.inmet.gov.br',\n",
    "'Referer': 'https://tempo.inmet.gov.br/'}\n",
    "\n",
    "Payload={\"data_inicio\":\"2022-10-05\",\"data_fim\":\"2023-06-08\",\"estacao\":\"A101\"}\n",
    "\n",
    "url = 'https://apitempo.inmet.gov.br/estacao/front/'\n",
    "r=s.options(url)\n",
    "\n",
    "resp = s.post(url,data=json.dumps(Payload), headers= newHeaders)\n",
    "resp\n"
   ]
  },
  {
   "cell_type": "code",
   "execution_count": 70,
   "metadata": {},
   "outputs": [
    {
     "data": {
      "text/plain": [
       "b'<!DOCTYPE HTML PUBLIC \"-//IETF//DTD HTML 2.0//EN\">\\n<html><head>\\n<title>403 Forbidden</title>\\n</head><body>\\n<h1>Forbidden</h1>\\n<p>You don\\'t have permission to access this resource.</p>\\n</body></html>\\n'"
      ]
     },
     "execution_count": 70,
     "metadata": {},
     "output_type": "execute_result"
    }
   ],
   "source": [
    "resp.content"
   ]
  },
  {
   "cell_type": "code",
   "execution_count": 55,
   "metadata": {},
   "outputs": [
    {
     "data": {
      "text/plain": [
       "{\"error\":\"Algo deu errado!!\"}"
      ]
     },
     "execution_count": 55,
     "metadata": {},
     "output_type": "execute_result"
    }
   ],
   "source": [
    "BeautifulSoup(resp.text, 'html.parser')"
   ]
  },
  {
   "cell_type": "code",
   "execution_count": 41,
   "metadata": {},
   "outputs": [
    {
     "data": {
      "text/plain": [
       "b'<!DOCTYPE HTML PUBLIC \"-//IETF//DTD HTML 2.0//EN\">\\n<html><head>\\n<title>408 Request Timeout</title>\\n</head><body>\\n<h1>Request Timeout</h1>\\n<p>Server timeout waiting for the HTTP request from the client.</p>\\n</body></html>\\n'"
      ]
     },
     "execution_count": 41,
     "metadata": {},
     "output_type": "execute_result"
    }
   ],
   "source": [
    "base_query = [_api, \"estacao\", \"diaria\"]\n",
    "full_query = base_query.copy()\n",
    "full_query.extend([\"2023-06-08\", \"2023-06-10\", \"A101\"])\n",
    "\n",
    "r = requests.post(\"/\".join(full_query),headers=newHeaders)\n",
    "r.content"
   ]
  },
  {
   "cell_type": "code",
   "execution_count": null,
   "metadata": {},
   "outputs": [
    {
     "data": {
      "text/plain": [
       "{'Date': 'Thu, 08 Jun 2023 16:03:33 GMT', 'Server': 'Apache', 'Strict-Transport-Security': 'max-age=31536000; includeSubDomains, max-age=15552000', 'Access-Control-Allow-Origin': 'https://tempo.inmet.gov.br', 'Content-Type': 'application/json; charset=utf-8', 'Content-Length': '29', 'Content-Security-Policy': 'frame-ancestors https://*.inmet.gov.br/ http://*.inmet.gov.br;', 'X-Frame-Options': 'sameorigin', 'Keep-Alive': 'timeout=2, max=500', 'Connection': 'Keep-Alive'}"
      ]
     },
     "execution_count": 65,
     "metadata": {},
     "output_type": "execute_result"
    }
   ],
   "source": [
    "resp.headers"
   ]
  },
  {
   "cell_type": "code",
   "execution_count": null,
   "metadata": {},
   "outputs": [],
   "source": [
    "import requests\n",
    "from bs4 import BeautifulSoup\n",
    "\n",
    "# URL do site\n",
    "url = 'https://tempo.inmet.gov.br/TabelaEstacoes/A101'\n",
    "\n",
    "# Fazendo a solicitação GET ao site\n",
    "response = requests.get(url, headers= newHeaders)\n",
    "\n",
    "\n",
    "# Criando um objeto BeautifulSoup para analisar o conteúdo HTML\n",
    "soup = BeautifulSoup(response.text, 'html.parser')"
   ]
  },
  {
   "cell_type": "code",
   "execution_count": null,
   "metadata": {},
   "outputs": [
    {
     "data": {
      "text/plain": [
       "<!DOCTYPE html>\n",
       "<html lang=\"pt-br\"><head><meta charset=\"utf-8\"/><script src=\"https://ajax.googleapis.com/ajax/libs/jquery/3.3.1/jquery.min.js\"></script><script src=\"https://www.google.com/recaptcha/api.js?render=6LdqhOkjAAAAAHqjdF9WSjtatHC0bEohqmvrADrL\"></script><meta content=\"width=device-width,initial-scale=1\" name=\"viewport\"/><link href=\"”/favicon.ico”\" icon”=\"\" rel=\"”shortcut\"/><title>INMET :: Tempo</title><link href=\"/static/css/2.fafb19e0.chunk.css\" rel=\"stylesheet\"/><link href=\"/static/css/main.a0ce06ea.chunk.css\" rel=\"stylesheet\"/></head><body><noscript>You need to enable JavaScript to run this app.</noscript><div id=\"root\"></div><script>!function(e){function t(t){for(var n,l,p=t[0],f=t[1],i=t[2],c=0,s=[];c<p.length;c++)l=p[c],Object.prototype.hasOwnProperty.call(o,l)&&o[l]&&s.push(o[l][0]),o[l]=0;for(n in f)Object.prototype.hasOwnProperty.call(f,n)&&(e[n]=f[n]);for(a&&a(t);s.length;)s.shift()();return u.push.apply(u,i||[]),r()}function r(){for(var e,t=0;t<u.length;t++){for(var r=u[t],n=!0,p=1;p<r.length;p++){var f=r[p];0!==o[f]&&(n=!1)}n&&(u.splice(t--,1),e=l(l.s=r[0]))}return e}var n={},o={1:0},u=[];function l(t){if(n[t])return n[t].exports;var r=n[t]={i:t,l:!1,exports:{}};return e[t].call(r.exports,r,r.exports,l),r.l=!0,r.exports}l.m=e,l.c=n,l.d=function(e,t,r){l.o(e,t)||Object.defineProperty(e,t,{enumerable:!0,get:r})},l.r=function(e){\"undefined\"!=typeof Symbol&&Symbol.toStringTag&&Object.defineProperty(e,Symbol.toStringTag,{value:\"Module\"}),Object.defineProperty(e,\"__esModule\",{value:!0})},l.t=function(e,t){if(1&t&&(e=l(e)),8&t)return e;if(4&t&&\"object\"==typeof e&&e&&e.__esModule)return e;var r=Object.create(null);if(l.r(r),Object.defineProperty(r,\"default\",{enumerable:!0,value:e}),2&t&&\"string\"!=typeof e)for(var n in e)l.d(r,n,function(t){return e[t]}.bind(null,n));return r},l.n=function(e){var t=e&&e.__esModule?function(){return e.default}:function(){return e};return l.d(t,\"a\",t),t},l.o=function(e,t){return Object.prototype.hasOwnProperty.call(e,t)},l.p=\"/\";var p=this.webpackJsonptempo=this.webpackJsonptempo||[],f=p.push.bind(p);p.push=t,p=p.slice();for(var i=0;i<p.length;i++)t(p[i]);var a=f;r()}([])</script><script src=\"/static/js/2.8b844c9c.chunk.js\"></script><script src=\"/static/js/main.3fdc5813.chunk.js\"></script></body><script async=\"\" src=\"https://www.googletagmanager.com/gtag/js?id=G-JF058S2872\"></script><script>function gtag(){dataLayer.push(arguments)}window.dataLayer=window.dataLayer||[],gtag(\"js\",new Date),gtag(\"config\",\"G-JF058S2872\")</script></html>"
      ]
     },
     "execution_count": 68,
     "metadata": {},
     "output_type": "execute_result"
    }
   ],
   "source": [
    "soup"
   ]
  },
  {
   "cell_type": "code",
   "execution_count": null,
   "metadata": {},
   "outputs": [],
   "source": []
  },
  {
   "cell_type": "code",
   "execution_count": null,
   "metadata": {},
   "outputs": [],
   "source": [
    "# Carrega dados das estacoes a partir da base\n",
    "with open('estacoes.json') as stations_file:\n",
    "    data = json.load(stations_file)"
   ]
  },
  {
   "cell_type": "code",
   "execution_count": null,
   "metadata": {},
   "outputs": [
    {
     "data": {
      "text/plain": [
       "['MANAUS-A101\\n']"
      ]
     },
     "execution_count": 36,
     "metadata": {},
     "output_type": "execute_result"
    }
   ],
   "source": [
    "\n",
    "# Carrega todas as estacoes que se deseja fazer o download dos dados\n",
    "with open('entrada.txt') as input_file:\n",
    "    input_stations =  input_file.readlines()\n",
    "input_stations"
   ]
  },
  {
   "cell_type": "code",
   "execution_count": null,
   "metadata": {},
   "outputs": [],
   "source": [
    "#cria a pasta \"tabelas\"\n",
    "os.makedirs(\"Tabelas\", exist_ok=True)\n"
   ]
  },
  {
   "cell_type": "code",
   "execution_count": null,
   "metadata": {},
   "outputs": [
    {
     "data": {
      "text/plain": [
       "['A101']"
      ]
     },
     "execution_count": 38,
     "metadata": {},
     "output_type": "execute_result"
    }
   ],
   "source": [
    "# Pega os ids das estacoes\n",
    "stations_id = []\n",
    "for s in input_stations:\n",
    "     stations_id.append((s.split(\"-\")[1])[:-1])\n",
    "stations_id"
   ]
  },
  {
   "cell_type": "code",
   "execution_count": null,
   "metadata": {},
   "outputs": [
    {
     "data": {
      "text/plain": [
       "{'CD_OSCAR': {651: '0-2000-0-82331'},\n",
       " 'STATION_NAME': {651: 'MANAUS'},\n",
       " 'CD_STATION': {651: '82331'},\n",
       " 'TP_STATION': {651: 'Traditional'},\n",
       " 'START_DATE_OPERATION': {651: Timestamp('1909-12-31 23:59:56+0000', tz='UTC')},\n",
       " 'END_DATE_OPERATION': {651: NaT},\n",
       " 'LONGITUDE': {651: -60.01638888},\n",
       " 'LATITUDE': {651: -3.10333333},\n",
       " 'HEIGHT': {651: 61.25},\n",
       " 'CD_SITUATION': {651: 'Operative'},\n",
       " 'CD_WSI': {651: '0-76-0-1302603000W82331'},\n",
       " 'IS_CAPITAL': {651: True},\n",
       " 'CD_DISTRICT': {651: ' 01'},\n",
       " 'INSTITUTE': {651: 'INMET'},\n",
       " 'STATE': {651: 'AM'}}"
      ]
     },
     "execution_count": 39,
     "metadata": {},
     "output_type": "execute_result"
    }
   ],
   "source": [
    "manual_stations[manual_stations['STATION_NAME']=='MANAUS'].to_dict()"
   ]
  },
  {
   "cell_type": "code",
   "execution_count": null,
   "metadata": {},
   "outputs": [
    {
     "data": {
      "text/plain": [
       "'A101'"
      ]
     },
     "execution_count": 51,
     "metadata": {},
     "output_type": "execute_result"
    }
   ],
   "source": []
  },
  {
   "cell_type": "code",
   "execution_count": null,
   "metadata": {},
   "outputs": [
    {
     "data": {
      "text/plain": [
       "'http://www.inmet.gov.br/sonabra/pg_dspDadosCodigo_sim.php?QTEwMQ=='"
      ]
     },
     "execution_count": 60,
     "metadata": {},
     "output_type": "execute_result"
    }
   ],
   "source": [
    "cod = stations_id[0]\n",
    "url = data[cod]['url']\n",
    "station_name = data[cod]['detalhes']['estacao']\n",
    "station_name\n",
    "url"
   ]
  },
  {
   "cell_type": "code",
   "execution_count": null,
   "metadata": {},
   "outputs": [],
   "source": [
    "# Prepara um dicionario com os dados para o submmit do   formulario\n",
    "form = {}\n",
    "form[\"dtaini\"] = \"2022-10-05\"\n",
    "form[\"dtafim\"] = \"2023-06-08\"\n",
    "\n",
    "# Cria uma sessao para persistencia de informacoes entre requests\n",
    "session = requests.Session()\n",
    "r = session.get(url).text"
   ]
  },
  {
   "cell_type": "code",
   "execution_count": null,
   "metadata": {},
   "outputs": [],
   "source": [
    "img_number = getImgNumber(r)[0]\n",
    "form[\"aleaValue\"] = img_number\n",
    "form[\"xaleaValue\"] = getImgNumber(r)[2]\n",
    "form[\"xID\"] = getImgNumber(r)[3]\n",
    "form[\"aleaNum\"] = decodeNumber(img_number)\n",
    "\n",
    "# Recebe o redirecionamento para a tabela de dados da estacao\n",
    "res = session.post(url, data=form).text\n",
    "\n",
    "# Gera o csv de dados da estacao\n",
    "generateCSV(res, station_name)\n",
    "\n",
    "print(\"Station \"+ station_name +\" download success...\")"
   ]
  },
  {
   "cell_type": "code",
   "execution_count": null,
   "metadata": {},
   "outputs": [],
   "source": []
  },
  {
   "cell_type": "code",
   "execution_count": null,
   "metadata": {},
   "outputs": [],
   "source": []
  },
  {
   "cell_type": "code",
   "execution_count": null,
   "metadata": {},
   "outputs": [],
   "source": []
  },
  {
   "cell_type": "code",
   "execution_count": null,
   "metadata": {},
   "outputs": [],
   "source": []
  },
  {
   "cell_type": "code",
   "execution_count": null,
   "metadata": {},
   "outputs": [
    {
     "ename": "TypeError",
     "evalue": "__init__() got an unexpected keyword argument 'options'",
     "output_type": "error",
     "traceback": [
      "\u001b[1;31m---------------------------------------------------------------------------\u001b[0m",
      "\u001b[1;31mTypeError\u001b[0m                                 Traceback (most recent call last)",
      "\u001b[1;32m<ipython-input-14-94c4019b9607>\u001b[0m in \u001b[0;36m<module>\u001b[1;34m\u001b[0m\n\u001b[0;32m      5\u001b[0m \u001b[0moptions\u001b[0m \u001b[1;33m=\u001b[0m \u001b[0mwebdriver\u001b[0m\u001b[1;33m.\u001b[0m\u001b[0mChromeOptions\u001b[0m\u001b[1;33m(\u001b[0m\u001b[1;33m)\u001b[0m\u001b[1;33m\u001b[0m\u001b[1;33m\u001b[0m\u001b[0m\n\u001b[0;32m      6\u001b[0m \u001b[1;33m\u001b[0m\u001b[0m\n\u001b[1;32m----> 7\u001b[1;33m \u001b[0mwb\u001b[0m \u001b[1;33m=\u001b[0m \u001b[0mwebdriver\u001b[0m\u001b[1;33m.\u001b[0m\u001b[0mChrome\u001b[0m\u001b[1;33m(\u001b[0m\u001b[1;34m'chromedriver'\u001b[0m\u001b[1;33m,\u001b[0m\u001b[0moptions\u001b[0m \u001b[1;33m=\u001b[0m \u001b[0moptions\u001b[0m\u001b[1;33m)\u001b[0m\u001b[1;33m\u001b[0m\u001b[1;33m\u001b[0m\u001b[0m\n\u001b[0m\u001b[0;32m      8\u001b[0m \u001b[0msite\u001b[0m \u001b[1;33m=\u001b[0m \u001b[1;34m'https://tempo.inmet.gov.br/TabelaEstacoes/A612'\u001b[0m\u001b[1;33m\u001b[0m\u001b[1;33m\u001b[0m\u001b[0m\n\u001b[0;32m      9\u001b[0m \u001b[0mwb\u001b[0m\u001b[1;33m.\u001b[0m\u001b[0mget\u001b[0m\u001b[1;33m(\u001b[0m\u001b[0msite\u001b[0m\u001b[1;33m)\u001b[0m\u001b[1;33m\u001b[0m\u001b[1;33m\u001b[0m\u001b[0m\n",
      "\u001b[1;31mTypeError\u001b[0m: __init__() got an unexpected keyword argument 'options'"
     ]
    }
   ],
   "source": [
    "import pandas as pd\n",
    "from selenium import webdriver\n",
    "from bs4 import BeautifulSoup\n",
    "\n",
    "options = webdriver.ChromeOptions()\n",
    "\n",
    "wb = webdriver.Chrome('chromedriver',options = options)\n",
    "site = 'https://tempo.inmet.gov.br/TabelaEstacoes/A612'\n",
    "wb.get(site)\n"
   ]
  },
  {
   "cell_type": "code",
   "execution_count": null,
   "metadata": {},
   "outputs": [
    {
     "ename": "NameError",
     "evalue": "name 'wb' is not defined",
     "output_type": "error",
     "traceback": [
      "\u001b[1;31m---------------------------------------------------------------------------\u001b[0m",
      "\u001b[1;31mNameError\u001b[0m                                 Traceback (most recent call last)",
      "\u001b[1;32m<ipython-input-11-45d31b14bc5c>\u001b[0m in \u001b[0;36m<module>\u001b[1;34m\u001b[0m\n\u001b[1;32m----> 1\u001b[1;33m \u001b[0mwb\u001b[0m\u001b[1;33m.\u001b[0m\u001b[0mget\u001b[0m\u001b[1;33m(\u001b[0m\u001b[0msite\u001b[0m\u001b[1;33m)\u001b[0m\u001b[1;33m\u001b[0m\u001b[1;33m\u001b[0m\u001b[0m\n\u001b[0m\u001b[0;32m      2\u001b[0m \u001b[0mhtml\u001b[0m \u001b[1;33m=\u001b[0m \u001b[0mwb\u001b[0m\u001b[1;33m.\u001b[0m\u001b[0mpage_source\u001b[0m\u001b[1;33m\u001b[0m\u001b[1;33m\u001b[0m\u001b[0m\n\u001b[0;32m      3\u001b[0m \u001b[0mdf\u001b[0m \u001b[1;33m=\u001b[0m \u001b[0mpd\u001b[0m\u001b[1;33m.\u001b[0m\u001b[0mread_html\u001b[0m\u001b[1;33m(\u001b[0m\u001b[0mhtml\u001b[0m\u001b[1;33m)\u001b[0m\u001b[1;33m[\u001b[0m\u001b[1;36m0\u001b[0m\u001b[1;33m]\u001b[0m\u001b[1;33m\u001b[0m\u001b[1;33m\u001b[0m\u001b[0m\n",
      "\u001b[1;31mNameError\u001b[0m: name 'wb' is not defined"
     ]
    }
   ],
   "source": [
    "\n",
    "wb.get(site)\n",
    "html = wb.page_source\n",
    "df = pd.read_html(html)[0]"
   ]
  }
 ],
 "metadata": {
  "kernelspec": {
   "display_name": "Python 3 (ipykernel)",
   "language": "python",
   "name": "python3"
  },
  "language_info": {
   "codemirror_mode": {
    "name": "ipython",
    "version": 3
   },
   "file_extension": ".py",
   "mimetype": "text/x-python",
   "name": "python",
   "nbconvert_exporter": "python",
   "pygments_lexer": "ipython3",
   "version": "3.8.10"
  },
  "vscode": {
   "interpreter": {
    "hash": "008697ad960526c3664d6fd9bebc234fe853ef18da2f2015b139c465616175b3"
   }
  }
 },
 "nbformat": 4,
 "nbformat_minor": 2
}
